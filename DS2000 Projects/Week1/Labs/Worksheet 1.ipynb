{
 "cells": [
  {
   "cell_type": "code",
   "execution_count": 26,
   "id": "d7063ab2",
   "metadata": {},
   "outputs": [],
   "source": [
    "#Week 1 Lab Exercise Sheet"
   ]
  },
  {
   "cell_type": "code",
   "execution_count": 27,
   "id": "eed5e76a",
   "metadata": {},
   "outputs": [],
   "source": [
    "#Question 1Implement Equations in python"
   ]
  },
  {
   "cell_type": "code",
   "execution_count": 28,
   "id": "c5ba9eb5",
   "metadata": {},
   "outputs": [],
   "source": [
    "#importing Math to use for questions\n",
    "import math"
   ]
  },
  {
   "cell_type": "code",
   "execution_count": 29,
   "id": "3a61db8f",
   "metadata": {},
   "outputs": [
    {
     "name": "stdout",
     "output_type": "stream",
     "text": [
      "Equation A: 0.3076923076923077 \n",
      "\n"
     ]
    }
   ],
   "source": [
    "print(\"Equation A:\", (8-4)/(5+8), \"\\n\")\n"
   ]
  },
  {
   "cell_type": "code",
   "execution_count": 30,
   "id": "d3b69ca2",
   "metadata": {},
   "outputs": [
    {
     "name": "stdout",
     "output_type": "stream",
     "text": [
      "Equation B: -4.17157287525381 \n",
      "\n"
     ]
    }
   ],
   "source": [
    "#Taking the square root of 5+3 then subtracting 7\n",
    "print(\"Equation B:\", math.sqrt(5+3)-7, \"\\n\")\n"
   ]
  },
  {
   "cell_type": "code",
   "execution_count": 31,
   "id": "b15176ab",
   "metadata": {},
   "outputs": [
    {
     "name": "stdout",
     "output_type": "stream",
     "text": [
      "Equation C: 27 \n",
      "\n"
     ]
    }
   ],
   "source": [
    "#First doing 6-3 then finding the cube root \n",
    "print(\"Equation C:\", (6-3)**3,\"\\n\")\n"
   ]
  },
  {
   "cell_type": "code",
   "execution_count": 32,
   "id": "4669870e",
   "metadata": {},
   "outputs": [
    {
     "name": "stdout",
     "output_type": "stream",
     "text": [
      "Equation D: 2 \n",
      "\n"
     ]
    }
   ],
   "source": [
    "#Modular division\n",
    "print(\"Equation D:\", 8%3, \"\\n\")\n"
   ]
  },
  {
   "cell_type": "code",
   "execution_count": 33,
   "id": "b8016eee",
   "metadata": {},
   "outputs": [
    {
     "name": "stdout",
     "output_type": "stream",
     "text": [
      "Equation E: 3.634241185664279\n"
     ]
    }
   ],
   "source": [
    "#First doing -4+52 then taking it to the 1/3 power which is the same as doing the cube root\n",
    "print(\"Equation E:\", ((-4+52))**(1/3))"
   ]
  },
  {
   "cell_type": "code",
   "execution_count": 34,
   "id": "87007484",
   "metadata": {},
   "outputs": [],
   "source": [
    "#Question 2: Two equations that appear the same but are different"
   ]
  },
  {
   "cell_type": "code",
   "execution_count": 35,
   "id": "b9f915f8",
   "metadata": {},
   "outputs": [
    {
     "name": "stdout",
     "output_type": "stream",
     "text": [
      "Equation 1: 4*3+1 = 13\n"
     ]
    }
   ],
   "source": [
    "print(f'Equation 1: 4*3+1 = {4*3+1}')"
   ]
  },
  {
   "cell_type": "code",
   "execution_count": 37,
   "id": "652acf7c",
   "metadata": {},
   "outputs": [
    {
     "name": "stdout",
     "output_type": "stream",
     "text": [
      "Equation 2: 4*(3+1) = 16\n"
     ]
    }
   ],
   "source": [
    "'''\n",
    "Appears the same as the first equation but since there are parantheses the PEMDAS is \n",
    "different and the result is different\n",
    "'''\n",
    "print(f'Equation 2: 4*(3+1) = {4*(3+1)}')"
   ]
  },
  {
   "cell_type": "code",
   "execution_count": 38,
   "id": "2eb336e0",
   "metadata": {},
   "outputs": [],
   "source": [
    "#Queston 3: Euclidean distance "
   ]
  },
  {
   "cell_type": "code",
   "execution_count": 39,
   "id": "0a216399",
   "metadata": {},
   "outputs": [],
   "source": [
    "#Setting the two coordinates\n",
    "x1,y1 = 5,2\n",
    "x2,y2 = 9,3"
   ]
  },
  {
   "cell_type": "code",
   "execution_count": 40,
   "id": "73f7ef4a",
   "metadata": {},
   "outputs": [],
   "source": [
    "#Euclidean distance formulaS\n",
    "d = math.sqrt((x2-x1)**2 + (y2-y1)**2)"
   ]
  },
  {
   "cell_type": "code",
   "execution_count": 41,
   "id": "13f71994",
   "metadata": {},
   "outputs": [
    {
     "name": "stdout",
     "output_type": "stream",
     "text": [
      "The Euclidean distance between Alice and Bob is 4.123105625617661\n"
     ]
    }
   ],
   "source": [
    "print(f\"The Euclidean distance between Alice and Bob is {d}\")"
   ]
  },
  {
   "cell_type": "code",
   "execution_count": 42,
   "id": "5adfe891",
   "metadata": {},
   "outputs": [],
   "source": [
    "#Question 4: Upgrading Mobile Phone"
   ]
  },
  {
   "cell_type": "code",
   "execution_count": 43,
   "id": "8f6eff49",
   "metadata": {},
   "outputs": [
    {
     "name": "stdout",
     "output_type": "stream",
     "text": [
      "Enter your name sam\n"
     ]
    }
   ],
   "source": [
    "name = \"Hello \" + input(\"Enter your name \")"
   ]
  },
  {
   "cell_type": "code",
   "execution_count": 44,
   "id": "2077e6d7",
   "metadata": {},
   "outputs": [
    {
     "name": "stdout",
     "output_type": "stream",
     "text": [
      "Enter your monthly contract cost 12\n"
     ]
    }
   ],
   "source": [
    "annualCost = \" the annual cost of your handset is $\" + str(int(input(\"Enter your monthly contract cost \"))*12)"
   ]
  },
  {
   "cell_type": "code",
   "execution_count": 45,
   "id": "db424edc",
   "metadata": {},
   "outputs": [
    {
     "name": "stdout",
     "output_type": "stream",
     "text": [
      "Enter your initial handset price 2\n"
     ]
    }
   ],
   "source": [
    "handset = \" with the initial cost being $\" + input(\"Enter your initial handset price \")"
   ]
  },
  {
   "cell_type": "code",
   "execution_count": 46,
   "id": "c3bcc0c7",
   "metadata": {},
   "outputs": [
    {
     "name": "stdout",
     "output_type": "stream",
     "text": [
      "Hello sam the annual cost of your handset is $144 with the initial cost being $2\n"
     ]
    }
   ],
   "source": [
    "#printing out the result using concatenation\n",
    "print(name + annualCost + handset)"
   ]
  },
  {
   "cell_type": "code",
   "execution_count": 47,
   "id": "b1a5fa1d",
   "metadata": {},
   "outputs": [],
   "source": [
    "#Question 5: Job Acceptance Calculator"
   ]
  },
  {
   "cell_type": "code",
   "execution_count": 48,
   "id": "3e7ca043",
   "metadata": {},
   "outputs": [
    {
     "name": "stdout",
     "output_type": "stream",
     "text": [
      "Enter Job Locationsam\n"
     ]
    }
   ],
   "source": [
    "location = input(\"Enter Job Location\").title()"
   ]
  },
  {
   "cell_type": "code",
   "execution_count": 49,
   "id": "4266a4f7",
   "metadata": {},
   "outputs": [
    {
     "name": "stdout",
     "output_type": "stream",
     "text": [
      "Enter Salary2\n"
     ]
    }
   ],
   "source": [
    "salary = int(input(\"Enter Salary\"))"
   ]
  },
  {
   "cell_type": "code",
   "execution_count": 51,
   "id": "a54f3f2d",
   "metadata": {},
   "outputs": [
    {
     "name": "stdout",
     "output_type": "stream",
     "text": [
      "No, I will not accept the job in Sam for an annual salary of $2\n"
     ]
    }
   ],
   "source": [
    "#Checking requirements \n",
    "\n",
    "if(location != \"London\" and salary > 30000):\n",
    "    print(f'Yes, I will accept the job in {location}for an annual salary of ${salary}')\n",
    "elif(location == \"London\" and salary >= 50000):\n",
    "    print(f'Yes, I will accept the job in {location} for an annual salary of ${salary}')\n",
    "else:\n",
    "    print(f'No, I will not accept the job in {location} for an annual salary of ${salary}')"
   ]
  },
  {
   "cell_type": "code",
   "execution_count": null,
   "id": "d50dc14a",
   "metadata": {},
   "outputs": [],
   "source": []
  }
 ],
 "metadata": {
  "kernelspec": {
   "display_name": "Python 3 (ipykernel)",
   "language": "python",
   "name": "python3"
  },
  "language_info": {
   "codemirror_mode": {
    "name": "ipython",
    "version": 3
   },
   "file_extension": ".py",
   "mimetype": "text/x-python",
   "name": "python",
   "nbconvert_exporter": "python",
   "pygments_lexer": "ipython3",
   "version": "3.11.4"
  }
 },
 "nbformat": 4,
 "nbformat_minor": 5
}
