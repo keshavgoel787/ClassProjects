{
 "cells": [
  {
   "cell_type": "code",
   "execution_count": 1,
   "id": "fe79f107",
   "metadata": {},
   "outputs": [],
   "source": [
    "from graph import Graph"
   ]
  },
  {
   "cell_type": "code",
   "execution_count": 9,
   "id": "f934c93e",
   "metadata": {},
   "outputs": [],
   "source": [
    "class SocialNetwork:\n",
    "\n",
    "    def __init__(self):\n",
    "        \"\"\" Class constructor \"\"\"\n",
    "        self.g = Graph()\n",
    "\n",
    "    def read_network(self, filename):\n",
    "        with open(filename,'r') as f:\n",
    "            for line in f:\n",
    "                u,v = line.split(',')\n",
    "                u = u.strip()\n",
    "                v = v.strip()\n",
    "                self.g.add_edge(u,v)\n",
    "\n",
    "    def add_person(self, name):\n",
    "        self.g.add_vertex(name)\n",
    "\n",
    "    def friend(self, name1, name2):\n",
    "        self.g.add_edge(name1,name2)\n",
    "        \n",
    "    def unfriend(self, name1, name2):\n",
    "        self.g.remove_edge(name1,name2)\n",
    "\n",
    "    def recommend_friends(self, name):\n",
    "        \"\"\"Recommend friends for a particular person. Do this by finding that person’s friends,\n",
    "        and all of the friends of those friends. Don’t recommend anyone who is already a friend!\n",
    "        Don’t recommend a person more than once. And definitely don't recommend that a person\n",
    "        be friends with themselves! \"\"\"\n",
    "        \n",
    "        a = self.g.__getitem__(name)\n",
    "        b = set()\n",
    "        \n",
    "        #adds all the adjacent vertices to the set \n",
    "        for val in a:\n",
    "            b.update(self.g.__getitem__(val))\n",
    "        \n",
    "        #Removes any friends that the person is already friends with \n",
    "        for val in a:\n",
    "            if val in b:\n",
    "                b.remove(val)\n",
    "        \n",
    "        #removes self from set\n",
    "        b.remove(name)\n",
    "        \n",
    "        return b\n",
    "        \n",
    "\n",
    "    def network_stats(self):\n",
    "        \"\"\"Generate some statistics about the network such as the number of users\n",
    "        and the average number of friends per user.\n",
    "        Return the stats as an attribute->value dictionary.  \"\"\"\n",
    "        #users = number of nodes\n",
    "        #Connections = number of edges\n",
    "        #average number of friends = edges/nodes \n",
    "        \n",
    "        a = {\"Total Users\" : self.g.num_vertices(),\n",
    "            \"Number of Connections\" : self.g.num_edges(),\n",
    "            \"Average Number of Friends\" : self.g.num_edges()/self.g.num_vertices()}\n",
    "        \n",
    "        \n",
    "        return a\n",
    "\n",
    "    def __repr__(self):\n",
    "        \"\"\" Output the network as a string for printing \"\"\"\n",
    "        return self.g.__repr__()"
   ]
  },
  {
   "cell_type": "code",
   "execution_count": 11,
   "id": "dc37b0d2",
   "metadata": {},
   "outputs": [],
   "source": [
    "def main():\n",
    "    net = SocialNetwork()\n",
    "    net.read_network('friends.txt')\n",
    "\n",
    "    print(\"The social network\")\n",
    "    print(net)\n",
    "\n",
    "    print(\"Network statistics\")\n",
    "    print(net.network_stats())\n",
    "\n",
    "    print(\"Friend recommendations for Monica\")\n",
    "    print(net.recommend_friends('Monica'))\n",
    "    \n",
    "    net.unfriend('Monica', 'John') # extra credit\n",
    "\n",
    "    print(\"\\nFriend recommendations for Monica after unfriending John\") # extra credit\n",
    "    print(net.recommend_friends('Monica'))"
   ]
  },
  {
   "cell_type": "code",
   "execution_count": 12,
   "id": "51ccbaaf",
   "metadata": {},
   "outputs": [
    {
     "name": "stdout",
     "output_type": "stream",
     "text": [
      "The social network\n",
      "[John] => {'Monica', 'Byron', 'Kevin'}\n",
      "[Monica] => {'John', 'Kevin'}\n",
      "[Byron] => {'John'}\n",
      "[Kevin] => {'Romil', 'JohnPhilip', 'Monica', 'John', 'Michael', 'Vaishnavi'}\n",
      "[Michael] => {'Kevin'}\n",
      "[Vaishnavi] => {'Kevin'}\n",
      "[JohnPhilip] => {'Kevin'}\n",
      "[Romil] => {'Kevin'}\n",
      "\n",
      "Network statistics\n",
      "{'Total Users': 8, 'Number of Connections': 8, 'Average Number of Friends': 1.0}\n",
      "Friend recommendations for Monica\n",
      "{'JohnPhilip', 'Michael', 'Byron', 'Vaishnavi', 'Romil'}\n",
      "\n",
      "Friend recommendations for Monica after unfriending John\n",
      "{'Vaishnavi', 'JohnPhilip', 'Michael', 'John', 'Romil'}\n"
     ]
    }
   ],
   "source": [
    "if __name__ == '__main__':\n",
    "    main()"
   ]
  }
 ],
 "metadata": {
  "kernelspec": {
   "display_name": "Python 3 (ipykernel)",
   "language": "python",
   "name": "python3"
  },
  "language_info": {
   "codemirror_mode": {
    "name": "ipython",
    "version": 3
   },
   "file_extension": ".py",
   "mimetype": "text/x-python",
   "name": "python",
   "nbconvert_exporter": "python",
   "pygments_lexer": "ipython3",
   "version": "3.11.4"
  }
 },
 "nbformat": 4,
 "nbformat_minor": 5
}
